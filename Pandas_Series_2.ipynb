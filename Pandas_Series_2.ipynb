{
 "cells": [
  {
   "cell_type": "code",
   "execution_count": 1,
   "id": "da1de0d1",
   "metadata": {},
   "outputs": [],
   "source": [
    "import pandas as pd"
   ]
  },
  {
   "cell_type": "code",
   "execution_count": 2,
   "id": "da33c1f0",
   "metadata": {},
   "outputs": [
    {
     "name": "stdout",
     "output_type": "stream",
     "text": [
      "a    9\n",
      "b    7\n",
      "c    3\n",
      "d    1\n",
      "e    5\n",
      "dtype: int64\n"
     ]
    }
   ],
   "source": [
    "s= pd.Series([9,7,3,1,5],index=['a','b','c','d','e'])\n",
    "print(s)"
   ]
  },
  {
   "cell_type": "code",
   "execution_count": 3,
   "id": "25c57e65",
   "metadata": {},
   "outputs": [],
   "source": [
    "ds1 = pd.Series([2,9,43,8,1,6,7,44,5])\n",
    "ds2 = pd.Series([3,8,2,4,6,7,2,6,4])"
   ]
  },
  {
   "cell_type": "code",
   "execution_count": 4,
   "id": "4dff9973",
   "metadata": {
    "scrolled": true
   },
   "outputs": [
    {
     "name": "stdout",
     "output_type": "stream",
     "text": [
      "<class 'pandas.core.series.Series'>\n",
      "RangeIndex: 9 entries, 0 to 8\n",
      "Series name: None\n",
      "Non-Null Count  Dtype\n",
      "--------------  -----\n",
      "9 non-null      int64\n",
      "dtypes: int64(1)\n",
      "memory usage: 200.0 bytes\n"
     ]
    }
   ],
   "source": [
    "ds1.info()"
   ]
  },
  {
   "cell_type": "code",
   "execution_count": 5,
   "id": "b9cfb3b6",
   "metadata": {},
   "outputs": [
    {
     "name": "stdout",
     "output_type": "stream",
     "text": [
      "<class 'pandas.core.series.Series'>\n",
      "RangeIndex: 9 entries, 0 to 8\n",
      "Series name: None\n",
      "Non-Null Count  Dtype\n",
      "--------------  -----\n",
      "9 non-null      int64\n",
      "dtypes: int64(1)\n",
      "memory usage: 200.0 bytes\n"
     ]
    }
   ],
   "source": [
    "ds2.info()"
   ]
  },
  {
   "cell_type": "code",
   "execution_count": 6,
   "id": "eb4fec44",
   "metadata": {},
   "outputs": [
    {
     "name": "stdout",
     "output_type": "stream",
     "text": [
      "0     2\n",
      "1     9\n",
      "2    43\n",
      "3     8\n",
      "4     1\n",
      "5     6\n",
      "6     7\n",
      "7    44\n",
      "8     5\n",
      "dtype: int64\n"
     ]
    }
   ],
   "source": [
    "print(ds1)"
   ]
  },
  {
   "cell_type": "code",
   "execution_count": 7,
   "id": "a50dd0a9",
   "metadata": {},
   "outputs": [
    {
     "name": "stdout",
     "output_type": "stream",
     "text": [
      "0    3\n",
      "1    8\n",
      "2    2\n",
      "3    4\n",
      "4    6\n",
      "5    7\n",
      "6    2\n",
      "7    6\n",
      "8    4\n",
      "dtype: int64\n"
     ]
    }
   ],
   "source": [
    "print(ds2)"
   ]
  },
  {
   "cell_type": "markdown",
   "id": "17aabbed",
   "metadata": {},
   "source": [
    "# Arithmetic Operation"
   ]
  },
  {
   "cell_type": "code",
   "execution_count": 8,
   "id": "df63cced",
   "metadata": {},
   "outputs": [
    {
     "name": "stdout",
     "output_type": "stream",
     "text": [
      "0     5\n",
      "1    17\n",
      "2    45\n",
      "3    12\n",
      "4     7\n",
      "5    13\n",
      "6     9\n",
      "7    50\n",
      "8     9\n",
      "dtype: int64\n"
     ]
    }
   ],
   "source": [
    "print(ds1 + ds2)"
   ]
  },
  {
   "cell_type": "code",
   "execution_count": 9,
   "id": "d8d28a25",
   "metadata": {},
   "outputs": [
    {
     "name": "stdout",
     "output_type": "stream",
     "text": [
      "0    -1\n",
      "1     1\n",
      "2    41\n",
      "3     4\n",
      "4    -5\n",
      "5    -1\n",
      "6     5\n",
      "7    38\n",
      "8     1\n",
      "dtype: int64\n"
     ]
    }
   ],
   "source": [
    "print(ds1 - ds2)"
   ]
  },
  {
   "cell_type": "code",
   "execution_count": 10,
   "id": "eb0459c6",
   "metadata": {},
   "outputs": [
    {
     "name": "stdout",
     "output_type": "stream",
     "text": [
      "0      6\n",
      "1     72\n",
      "2     86\n",
      "3     32\n",
      "4      6\n",
      "5     42\n",
      "6     14\n",
      "7    264\n",
      "8     20\n",
      "dtype: int64\n"
     ]
    }
   ],
   "source": [
    "print(ds1 * ds2)"
   ]
  },
  {
   "cell_type": "code",
   "execution_count": 11,
   "id": "3614fd7f",
   "metadata": {},
   "outputs": [
    {
     "name": "stdout",
     "output_type": "stream",
     "text": [
      "0     0.666667\n",
      "1     1.125000\n",
      "2    21.500000\n",
      "3     2.000000\n",
      "4     0.166667\n",
      "5     0.857143\n",
      "6     3.500000\n",
      "7     7.333333\n",
      "8     1.250000\n",
      "dtype: float64\n"
     ]
    }
   ],
   "source": [
    "print(ds1 / ds2)"
   ]
  },
  {
   "cell_type": "code",
   "execution_count": 12,
   "id": "8aa66e76",
   "metadata": {},
   "outputs": [
    {
     "name": "stdout",
     "output_type": "stream",
     "text": [
      "0    2\n",
      "1    1\n",
      "2    1\n",
      "3    0\n",
      "4    1\n",
      "5    6\n",
      "6    1\n",
      "7    2\n",
      "8    1\n",
      "dtype: int64\n"
     ]
    }
   ],
   "source": [
    "print(ds1 % ds2)"
   ]
  },
  {
   "cell_type": "markdown",
   "id": "6053bd1c",
   "metadata": {},
   "source": [
    "# Compare..."
   ]
  },
  {
   "cell_type": "code",
   "execution_count": 13,
   "id": "dad36105",
   "metadata": {},
   "outputs": [
    {
     "name": "stdout",
     "output_type": "stream",
     "text": [
      "0    False\n",
      "1    False\n",
      "2    False\n",
      "3    False\n",
      "4    False\n",
      "5    False\n",
      "6    False\n",
      "7    False\n",
      "8    False\n",
      "dtype: bool\n"
     ]
    }
   ],
   "source": [
    "print(ds1 == ds2)"
   ]
  },
  {
   "cell_type": "code",
   "execution_count": 14,
   "id": "da19d362",
   "metadata": {},
   "outputs": [
    {
     "name": "stdout",
     "output_type": "stream",
     "text": [
      "0    False\n",
      "1     True\n",
      "2     True\n",
      "3     True\n",
      "4    False\n",
      "5    False\n",
      "6     True\n",
      "7     True\n",
      "8     True\n",
      "dtype: bool\n"
     ]
    }
   ],
   "source": [
    "print(ds1 > ds2)"
   ]
  },
  {
   "cell_type": "code",
   "execution_count": 15,
   "id": "42c79155",
   "metadata": {},
   "outputs": [
    {
     "name": "stdout",
     "output_type": "stream",
     "text": [
      "0     True\n",
      "1    False\n",
      "2    False\n",
      "3    False\n",
      "4     True\n",
      "5     True\n",
      "6    False\n",
      "7    False\n",
      "8    False\n",
      "dtype: bool\n"
     ]
    }
   ],
   "source": [
    "print(ds1 < ds2)"
   ]
  },
  {
   "cell_type": "code",
   "execution_count": 16,
   "id": "b8edbdd1",
   "metadata": {},
   "outputs": [],
   "source": [
    "dicto = {'Mobile':['iPhone','Redmi','Vivo','Samsumg','Nokia','Infinix'],\n",
    "            'Rating':[1,3,2,5,15,6],\n",
    "            'Price':[75000,15000,15000,10000,1500,12000],\n",
    "            'Color':['White','Black','Mat_Black','Blue','Black','Blue']}"
   ]
  },
  {
   "cell_type": "code",
   "execution_count": 17,
   "id": "49ef35bf",
   "metadata": {},
   "outputs": [
    {
     "data": {
      "text/plain": [
       "{'Mobile': ['iPhone', 'Redmi', 'Vivo', 'Samsumg', 'Nokia', 'Infinix'],\n",
       " 'Rating': [1, 3, 2, 5, 15, 6],\n",
       " 'Price': [75000, 15000, 15000, 10000, 1500, 12000],\n",
       " 'Color': ['White', 'Black', 'Mat_Black', 'Blue', 'Black', 'Blue']}"
      ]
     },
     "execution_count": 17,
     "metadata": {},
     "output_type": "execute_result"
    }
   ],
   "source": [
    "dicto"
   ]
  },
  {
   "cell_type": "code",
   "execution_count": 18,
   "id": "780b3fec",
   "metadata": {},
   "outputs": [
    {
     "data": {
      "text/plain": [
       "Mobile    [iPhone, Redmi, Vivo, Samsumg, Nokia, Infinix]\n",
       "Rating                               [1, 3, 2, 5, 15, 6]\n",
       "Price          [75000, 15000, 15000, 10000, 1500, 12000]\n",
       "Color       [White, Black, Mat_Black, Blue, Black, Blue]\n",
       "dtype: object"
      ]
     },
     "execution_count": 18,
     "metadata": {},
     "output_type": "execute_result"
    }
   ],
   "source": [
    "pd.Series(dicto)"
   ]
  },
  {
   "cell_type": "code",
   "execution_count": 19,
   "id": "5191f1c2",
   "metadata": {},
   "outputs": [],
   "source": [
    "dict2 ={'a': 100, 'b': 200, 'c': 300, 'd': 400, 'e': 800}"
   ]
  },
  {
   "cell_type": "code",
   "execution_count": 20,
   "id": "dba0ae14",
   "metadata": {
    "scrolled": true
   },
   "outputs": [
    {
     "data": {
      "text/plain": [
       "a    100\n",
       "b    200\n",
       "c    300\n",
       "d    400\n",
       "e    800\n",
       "dtype: int64"
      ]
     },
     "execution_count": 20,
     "metadata": {},
     "output_type": "execute_result"
    }
   ],
   "source": [
    "pd.Series(dict2)"
   ]
  },
  {
   "cell_type": "code",
   "execution_count": 21,
   "id": "0a966ab0",
   "metadata": {},
   "outputs": [],
   "source": [
    "import numpy as np"
   ]
  },
  {
   "cell_type": "code",
   "execution_count": 22,
   "id": "0e79d6e6",
   "metadata": {},
   "outputs": [],
   "source": [
    "array = np.array([6,8,1,3,4,7,9,2])\n"
   ]
  },
  {
   "cell_type": "code",
   "execution_count": 23,
   "id": "1d3de4e1",
   "metadata": {},
   "outputs": [
    {
     "data": {
      "text/plain": [
       "0    6\n",
       "1    8\n",
       "2    1\n",
       "3    3\n",
       "4    4\n",
       "5    7\n",
       "6    9\n",
       "7    2\n",
       "dtype: int32"
      ]
     },
     "execution_count": 23,
     "metadata": {},
     "output_type": "execute_result"
    }
   ],
   "source": [
    "pd.Series(array)"
   ]
  },
  {
   "cell_type": "code",
   "execution_count": 24,
   "id": "7b9b0f36",
   "metadata": {},
   "outputs": [],
   "source": [
    "revised_data = pd.DataFrame(dicto)"
   ]
  },
  {
   "cell_type": "code",
   "execution_count": 25,
   "id": "5464ba88",
   "metadata": {},
   "outputs": [
    {
     "data": {
      "text/html": [
       "<div>\n",
       "<style scoped>\n",
       "    .dataframe tbody tr th:only-of-type {\n",
       "        vertical-align: middle;\n",
       "    }\n",
       "\n",
       "    .dataframe tbody tr th {\n",
       "        vertical-align: top;\n",
       "    }\n",
       "\n",
       "    .dataframe thead th {\n",
       "        text-align: right;\n",
       "    }\n",
       "</style>\n",
       "<table border=\"1\" class=\"dataframe\">\n",
       "  <thead>\n",
       "    <tr style=\"text-align: right;\">\n",
       "      <th></th>\n",
       "      <th>Mobile</th>\n",
       "      <th>Rating</th>\n",
       "      <th>Price</th>\n",
       "      <th>Color</th>\n",
       "    </tr>\n",
       "  </thead>\n",
       "  <tbody>\n",
       "    <tr>\n",
       "      <th>0</th>\n",
       "      <td>iPhone</td>\n",
       "      <td>1</td>\n",
       "      <td>75000</td>\n",
       "      <td>White</td>\n",
       "    </tr>\n",
       "    <tr>\n",
       "      <th>1</th>\n",
       "      <td>Redmi</td>\n",
       "      <td>3</td>\n",
       "      <td>15000</td>\n",
       "      <td>Black</td>\n",
       "    </tr>\n",
       "    <tr>\n",
       "      <th>2</th>\n",
       "      <td>Vivo</td>\n",
       "      <td>2</td>\n",
       "      <td>15000</td>\n",
       "      <td>Mat_Black</td>\n",
       "    </tr>\n",
       "    <tr>\n",
       "      <th>3</th>\n",
       "      <td>Samsumg</td>\n",
       "      <td>5</td>\n",
       "      <td>10000</td>\n",
       "      <td>Blue</td>\n",
       "    </tr>\n",
       "    <tr>\n",
       "      <th>4</th>\n",
       "      <td>Nokia</td>\n",
       "      <td>15</td>\n",
       "      <td>1500</td>\n",
       "      <td>Black</td>\n",
       "    </tr>\n",
       "    <tr>\n",
       "      <th>5</th>\n",
       "      <td>Infinix</td>\n",
       "      <td>6</td>\n",
       "      <td>12000</td>\n",
       "      <td>Blue</td>\n",
       "    </tr>\n",
       "  </tbody>\n",
       "</table>\n",
       "</div>"
      ],
      "text/plain": [
       "    Mobile  Rating  Price      Color\n",
       "0   iPhone       1  75000      White\n",
       "1    Redmi       3  15000      Black\n",
       "2     Vivo       2  15000  Mat_Black\n",
       "3  Samsumg       5  10000       Blue\n",
       "4    Nokia      15   1500      Black\n",
       "5  Infinix       6  12000       Blue"
      ]
     },
     "execution_count": 25,
     "metadata": {},
     "output_type": "execute_result"
    }
   ],
   "source": [
    "revised_data"
   ]
  },
  {
   "cell_type": "code",
   "execution_count": 26,
   "id": "9847aa17",
   "metadata": {},
   "outputs": [],
   "source": [
    "s1 = revised_data.iloc[:,2]"
   ]
  },
  {
   "cell_type": "code",
   "execution_count": 27,
   "id": "645e6868",
   "metadata": {},
   "outputs": [
    {
     "data": {
      "text/plain": [
       "0    75000\n",
       "1    15000\n",
       "2    15000\n",
       "3    10000\n",
       "4     1500\n",
       "5    12000\n",
       "Name: Price, dtype: int64"
      ]
     },
     "execution_count": 27,
     "metadata": {},
     "output_type": "execute_result"
    }
   ],
   "source": [
    "s1"
   ]
  },
  {
   "cell_type": "code",
   "execution_count": 28,
   "id": "a6cd01db",
   "metadata": {},
   "outputs": [
    {
     "name": "stdout",
     "output_type": "stream",
     "text": [
      "<class 'pandas.core.series.Series'>\n"
     ]
    }
   ],
   "source": [
    "print(type(s1))"
   ]
  },
  {
   "cell_type": "code",
   "execution_count": 30,
   "id": "ebec2071",
   "metadata": {},
   "outputs": [
    {
     "name": "stderr",
     "output_type": "stream",
     "text": [
      "C:\\Users\\NISHANT\\AppData\\Local\\Temp\\ipykernel_5944\\2934747967.py:1: FutureWarning: The series.append method is deprecated and will be removed from pandas in a future version. Use pandas.concat instead.\n",
      "  new = ds1.append(pd.Series([88]))\n"
     ]
    }
   ],
   "source": [
    "new = ds1.append(pd.Series([88]))"
   ]
  },
  {
   "cell_type": "code",
   "execution_count": 31,
   "id": "f01cb654",
   "metadata": {},
   "outputs": [
    {
     "name": "stdout",
     "output_type": "stream",
     "text": [
      "0     2\n",
      "1     9\n",
      "2    43\n",
      "3     8\n",
      "4     1\n",
      "5     6\n",
      "6     7\n",
      "7    44\n",
      "8     5\n",
      "0    88\n",
      "dtype: int64\n"
     ]
    }
   ],
   "source": [
    "print(new)"
   ]
  },
  {
   "cell_type": "code",
   "execution_count": 33,
   "id": "bd351364",
   "metadata": {},
   "outputs": [
    {
     "data": {
      "text/plain": [
       "13.88888888888889"
      ]
     },
     "execution_count": 33,
     "metadata": {},
     "output_type": "execute_result"
    }
   ],
   "source": [
    "ds1.mean()"
   ]
  },
  {
   "cell_type": "code",
   "execution_count": 34,
   "id": "bb585ceb",
   "metadata": {},
   "outputs": [
    {
     "data": {
      "text/plain": [
       "16.98855824109601"
      ]
     },
     "execution_count": 34,
     "metadata": {},
     "output_type": "execute_result"
    }
   ],
   "source": [
    "ds1.std()"
   ]
  },
  {
   "cell_type": "markdown",
   "id": "6cbf4ac0",
   "metadata": {},
   "source": [
    "# value which is not present in another series"
   ]
  },
  {
   "cell_type": "code",
   "execution_count": 35,
   "id": "126e3018",
   "metadata": {},
   "outputs": [],
   "source": [
    "result= ds1[~ds1.isin(ds2)]"
   ]
  },
  {
   "cell_type": "code",
   "execution_count": 36,
   "id": "8b86782a",
   "metadata": {},
   "outputs": [
    {
     "data": {
      "text/plain": [
       "1     9\n",
       "2    43\n",
       "4     1\n",
       "7    44\n",
       "8     5\n",
       "dtype: int64"
      ]
     },
     "execution_count": 36,
     "metadata": {},
     "output_type": "execute_result"
    }
   ],
   "source": [
    "result"
   ]
  },
  {
   "cell_type": "code",
   "execution_count": 38,
   "id": "cc174d5a",
   "metadata": {},
   "outputs": [],
   "source": [
    "arr = np.array(ds1)"
   ]
  },
  {
   "cell_type": "code",
   "execution_count": 39,
   "id": "bc33f4d1",
   "metadata": {},
   "outputs": [
    {
     "data": {
      "text/plain": [
       "array([ 2,  9, 43,  8,  1,  6,  7, 44,  5], dtype=int64)"
      ]
     },
     "execution_count": 39,
     "metadata": {},
     "output_type": "execute_result"
    }
   ],
   "source": [
    "arr"
   ]
  },
  {
   "cell_type": "code",
   "execution_count": 44,
   "id": "71eff427",
   "metadata": {},
   "outputs": [],
   "source": [
    "arr.sort()"
   ]
  },
  {
   "cell_type": "code",
   "execution_count": 45,
   "id": "9b97d62c",
   "metadata": {},
   "outputs": [
    {
     "data": {
      "text/plain": [
       "array([ 1,  2,  5,  6,  7,  8,  9, 43, 44], dtype=int64)"
      ]
     },
     "execution_count": 45,
     "metadata": {},
     "output_type": "execute_result"
    }
   ],
   "source": [
    "arr"
   ]
  },
  {
   "cell_type": "code",
   "execution_count": null,
   "id": "2227bfc3",
   "metadata": {},
   "outputs": [],
   "source": []
  }
 ],
 "metadata": {
  "kernelspec": {
   "display_name": "Python 3 (ipykernel)",
   "language": "python",
   "name": "python3"
  },
  "language_info": {
   "codemirror_mode": {
    "name": "ipython",
    "version": 3
   },
   "file_extension": ".py",
   "mimetype": "text/x-python",
   "name": "python",
   "nbconvert_exporter": "python",
   "pygments_lexer": "ipython3",
   "version": "3.9.13"
  }
 },
 "nbformat": 4,
 "nbformat_minor": 5
}
