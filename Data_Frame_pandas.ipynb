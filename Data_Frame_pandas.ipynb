{
 "cells": [
  {
   "cell_type": "code",
   "execution_count": 1,
   "id": "516efa53",
   "metadata": {},
   "outputs": [],
   "source": [
    "import pandas as pd\n",
    "import seaborn as sns\n",
    "from matplotlib import pyplot as plt"
   ]
  },
  {
   "cell_type": "code",
   "execution_count": 2,
   "id": "ccd21279",
   "metadata": {},
   "outputs": [
    {
     "data": {
      "text/plain": [
       "{'Mobile': ['iPhone', 'Redmi', 'Vivo', 'Samsumg', 'Nokia', 'Infinix'],\n",
       " 'Rating': [1, 3, 2, 5, 15, 6],\n",
       " 'Price': [75000, 15000, 15000, 10000, 1500, 12000],\n",
       " 'Color': ['White', 'Black', 'Mat_Black', 'Blue', 'Black', 'Blue']}"
      ]
     },
     "execution_count": 2,
     "metadata": {},
     "output_type": "execute_result"
    }
   ],
   "source": [
    "data_mobile={'Mobile':['iPhone','Redmi','Vivo','Samsumg','Nokia','Infinix'],\n",
    "            'Rating':[1,3,2,5,15,6],\n",
    "            'Price':[75000,15000,15000,10000,1500,12000],\n",
    "            'Color':['White','Black','Mat_Black','Blue','Black','Blue']}\n",
    "data_mobile"
   ]
  },
  {
   "cell_type": "code",
   "execution_count": 3,
   "id": "a9b12d8e",
   "metadata": {
    "scrolled": false
   },
   "outputs": [
    {
     "data": {
      "text/html": [
       "<div>\n",
       "<style scoped>\n",
       "    .dataframe tbody tr th:only-of-type {\n",
       "        vertical-align: middle;\n",
       "    }\n",
       "\n",
       "    .dataframe tbody tr th {\n",
       "        vertical-align: top;\n",
       "    }\n",
       "\n",
       "    .dataframe thead th {\n",
       "        text-align: right;\n",
       "    }\n",
       "</style>\n",
       "<table border=\"1\" class=\"dataframe\">\n",
       "  <thead>\n",
       "    <tr style=\"text-align: right;\">\n",
       "      <th></th>\n",
       "      <th>Mobile</th>\n",
       "      <th>Rating</th>\n",
       "      <th>Price</th>\n",
       "      <th>Color</th>\n",
       "    </tr>\n",
       "  </thead>\n",
       "  <tbody>\n",
       "    <tr>\n",
       "      <th>0</th>\n",
       "      <td>iPhone</td>\n",
       "      <td>1</td>\n",
       "      <td>75000</td>\n",
       "      <td>White</td>\n",
       "    </tr>\n",
       "    <tr>\n",
       "      <th>1</th>\n",
       "      <td>Redmi</td>\n",
       "      <td>3</td>\n",
       "      <td>15000</td>\n",
       "      <td>Black</td>\n",
       "    </tr>\n",
       "    <tr>\n",
       "      <th>2</th>\n",
       "      <td>Vivo</td>\n",
       "      <td>2</td>\n",
       "      <td>15000</td>\n",
       "      <td>Mat_Black</td>\n",
       "    </tr>\n",
       "    <tr>\n",
       "      <th>3</th>\n",
       "      <td>Samsumg</td>\n",
       "      <td>5</td>\n",
       "      <td>10000</td>\n",
       "      <td>Blue</td>\n",
       "    </tr>\n",
       "    <tr>\n",
       "      <th>4</th>\n",
       "      <td>Nokia</td>\n",
       "      <td>15</td>\n",
       "      <td>1500</td>\n",
       "      <td>Black</td>\n",
       "    </tr>\n",
       "    <tr>\n",
       "      <th>5</th>\n",
       "      <td>Infinix</td>\n",
       "      <td>6</td>\n",
       "      <td>12000</td>\n",
       "      <td>Blue</td>\n",
       "    </tr>\n",
       "  </tbody>\n",
       "</table>\n",
       "</div>"
      ],
      "text/plain": [
       "    Mobile  Rating  Price      Color\n",
       "0   iPhone       1  75000      White\n",
       "1    Redmi       3  15000      Black\n",
       "2     Vivo       2  15000  Mat_Black\n",
       "3  Samsumg       5  10000       Blue\n",
       "4    Nokia      15   1500      Black\n",
       "5  Infinix       6  12000       Blue"
      ]
     },
     "execution_count": 3,
     "metadata": {},
     "output_type": "execute_result"
    }
   ],
   "source": [
    "revised_data = pd.DataFrame(data_mobile)\n",
    "revised_data"
   ]
  },
  {
   "cell_type": "code",
   "execution_count": 5,
   "id": "4e53a0a8",
   "metadata": {},
   "outputs": [
    {
     "data": {
      "text/plain": [
       "(6, 5)"
      ]
     },
     "execution_count": 5,
     "metadata": {},
     "output_type": "execute_result"
    }
   ],
   "source": [
    "revised_data.shape"
   ]
  },
  {
   "cell_type": "code",
   "execution_count": 4,
   "id": "82a47ddd",
   "metadata": {
    "scrolled": false
   },
   "outputs": [
    {
     "data": {
      "text/html": [
       "<div>\n",
       "<style scoped>\n",
       "    .dataframe tbody tr th:only-of-type {\n",
       "        vertical-align: middle;\n",
       "    }\n",
       "\n",
       "    .dataframe tbody tr th {\n",
       "        vertical-align: top;\n",
       "    }\n",
       "\n",
       "    .dataframe thead th {\n",
       "        text-align: right;\n",
       "    }\n",
       "</style>\n",
       "<table border=\"1\" class=\"dataframe\">\n",
       "  <thead>\n",
       "    <tr style=\"text-align: right;\">\n",
       "      <th></th>\n",
       "      <th>Mobile</th>\n",
       "      <th>Rating</th>\n",
       "      <th>Price</th>\n",
       "      <th>Color</th>\n",
       "      <th>Most_Sale</th>\n",
       "    </tr>\n",
       "  </thead>\n",
       "  <tbody>\n",
       "    <tr>\n",
       "      <th>0</th>\n",
       "      <td>iPhone</td>\n",
       "      <td>1</td>\n",
       "      <td>75000</td>\n",
       "      <td>White</td>\n",
       "      <td>2016</td>\n",
       "    </tr>\n",
       "    <tr>\n",
       "      <th>1</th>\n",
       "      <td>Redmi</td>\n",
       "      <td>3</td>\n",
       "      <td>15000</td>\n",
       "      <td>Black</td>\n",
       "      <td>2018</td>\n",
       "    </tr>\n",
       "    <tr>\n",
       "      <th>2</th>\n",
       "      <td>Vivo</td>\n",
       "      <td>2</td>\n",
       "      <td>15000</td>\n",
       "      <td>Mat_Black</td>\n",
       "      <td>2016</td>\n",
       "    </tr>\n",
       "    <tr>\n",
       "      <th>3</th>\n",
       "      <td>Samsumg</td>\n",
       "      <td>5</td>\n",
       "      <td>10000</td>\n",
       "      <td>Blue</td>\n",
       "      <td>2020</td>\n",
       "    </tr>\n",
       "    <tr>\n",
       "      <th>4</th>\n",
       "      <td>Nokia</td>\n",
       "      <td>15</td>\n",
       "      <td>1500</td>\n",
       "      <td>Black</td>\n",
       "      <td>2010</td>\n",
       "    </tr>\n",
       "    <tr>\n",
       "      <th>5</th>\n",
       "      <td>Infinix</td>\n",
       "      <td>6</td>\n",
       "      <td>12000</td>\n",
       "      <td>Blue</td>\n",
       "      <td>2021</td>\n",
       "    </tr>\n",
       "  </tbody>\n",
       "</table>\n",
       "</div>"
      ],
      "text/plain": [
       "    Mobile  Rating  Price      Color  Most_Sale\n",
       "0   iPhone       1  75000      White       2016\n",
       "1    Redmi       3  15000      Black       2018\n",
       "2     Vivo       2  15000  Mat_Black       2016\n",
       "3  Samsumg       5  10000       Blue       2020\n",
       "4    Nokia      15   1500      Black       2010\n",
       "5  Infinix       6  12000       Blue       2021"
      ]
     },
     "execution_count": 4,
     "metadata": {},
     "output_type": "execute_result"
    }
   ],
   "source": [
    "revised_data.insert(4,'Most_Sale',[2016,2018,2016,2020,2010,2021])\n",
    "revised_data"
   ]
  },
  {
   "cell_type": "code",
   "execution_count": 6,
   "id": "0f6310c0",
   "metadata": {},
   "outputs": [
    {
     "data": {
      "text/plain": [
       "(6, 5)"
      ]
     },
     "execution_count": 6,
     "metadata": {},
     "output_type": "execute_result"
    }
   ],
   "source": [
    "revised_data.shape"
   ]
  },
  {
   "cell_type": "code",
   "execution_count": 7,
   "id": "bc82521b",
   "metadata": {},
   "outputs": [
    {
     "data": {
      "text/html": [
       "<div>\n",
       "<style scoped>\n",
       "    .dataframe tbody tr th:only-of-type {\n",
       "        vertical-align: middle;\n",
       "    }\n",
       "\n",
       "    .dataframe tbody tr th {\n",
       "        vertical-align: top;\n",
       "    }\n",
       "\n",
       "    .dataframe thead th {\n",
       "        text-align: right;\n",
       "    }\n",
       "</style>\n",
       "<table border=\"1\" class=\"dataframe\">\n",
       "  <thead>\n",
       "    <tr style=\"text-align: right;\">\n",
       "      <th></th>\n",
       "      <th>Mobile</th>\n",
       "      <th>Rating</th>\n",
       "      <th>Price</th>\n",
       "      <th>Color</th>\n",
       "      <th>Most_Sale</th>\n",
       "      <th>State</th>\n",
       "    </tr>\n",
       "  </thead>\n",
       "  <tbody>\n",
       "    <tr>\n",
       "      <th>0</th>\n",
       "      <td>iPhone</td>\n",
       "      <td>1</td>\n",
       "      <td>75000</td>\n",
       "      <td>White</td>\n",
       "      <td>2016</td>\n",
       "      <td>UP</td>\n",
       "    </tr>\n",
       "    <tr>\n",
       "      <th>1</th>\n",
       "      <td>Redmi</td>\n",
       "      <td>3</td>\n",
       "      <td>15000</td>\n",
       "      <td>Black</td>\n",
       "      <td>2018</td>\n",
       "      <td>Banglore</td>\n",
       "    </tr>\n",
       "    <tr>\n",
       "      <th>2</th>\n",
       "      <td>Vivo</td>\n",
       "      <td>2</td>\n",
       "      <td>15000</td>\n",
       "      <td>Mat_Black</td>\n",
       "      <td>2016</td>\n",
       "      <td>Hydarabad</td>\n",
       "    </tr>\n",
       "    <tr>\n",
       "      <th>3</th>\n",
       "      <td>Samsumg</td>\n",
       "      <td>5</td>\n",
       "      <td>10000</td>\n",
       "      <td>Blue</td>\n",
       "      <td>2020</td>\n",
       "      <td>MP</td>\n",
       "    </tr>\n",
       "    <tr>\n",
       "      <th>4</th>\n",
       "      <td>Nokia</td>\n",
       "      <td>15</td>\n",
       "      <td>1500</td>\n",
       "      <td>Black</td>\n",
       "      <td>2010</td>\n",
       "      <td>UP</td>\n",
       "    </tr>\n",
       "    <tr>\n",
       "      <th>5</th>\n",
       "      <td>Infinix</td>\n",
       "      <td>6</td>\n",
       "      <td>12000</td>\n",
       "      <td>Blue</td>\n",
       "      <td>2021</td>\n",
       "      <td>Banglore</td>\n",
       "    </tr>\n",
       "  </tbody>\n",
       "</table>\n",
       "</div>"
      ],
      "text/plain": [
       "    Mobile  Rating  Price      Color  Most_Sale      State\n",
       "0   iPhone       1  75000      White       2016         UP\n",
       "1    Redmi       3  15000      Black       2018   Banglore\n",
       "2     Vivo       2  15000  Mat_Black       2016  Hydarabad\n",
       "3  Samsumg       5  10000       Blue       2020         MP\n",
       "4    Nokia      15   1500      Black       2010         UP\n",
       "5  Infinix       6  12000       Blue       2021   Banglore"
      ]
     },
     "execution_count": 7,
     "metadata": {},
     "output_type": "execute_result"
    }
   ],
   "source": [
    "revised_data.insert(5,\"State\",[\"UP\",\"Banglore\",\"Hydarabad\",\"MP\",\"UP\",\"Banglore\"])\n",
    "revised_data"
   ]
  },
  {
   "cell_type": "code",
   "execution_count": 8,
   "id": "74078997",
   "metadata": {
    "scrolled": true
   },
   "outputs": [
    {
     "data": {
      "text/html": [
       "<div>\n",
       "<style scoped>\n",
       "    .dataframe tbody tr th:only-of-type {\n",
       "        vertical-align: middle;\n",
       "    }\n",
       "\n",
       "    .dataframe tbody tr th {\n",
       "        vertical-align: top;\n",
       "    }\n",
       "\n",
       "    .dataframe thead th {\n",
       "        text-align: right;\n",
       "    }\n",
       "</style>\n",
       "<table border=\"1\" class=\"dataframe\">\n",
       "  <thead>\n",
       "    <tr style=\"text-align: right;\">\n",
       "      <th></th>\n",
       "      <th>Rating</th>\n",
       "      <th>Price</th>\n",
       "      <th>Most_Sale</th>\n",
       "    </tr>\n",
       "  </thead>\n",
       "  <tbody>\n",
       "    <tr>\n",
       "      <th>count</th>\n",
       "      <td>6.000000</td>\n",
       "      <td>6.000000</td>\n",
       "      <td>6.000000</td>\n",
       "    </tr>\n",
       "    <tr>\n",
       "      <th>mean</th>\n",
       "      <td>5.333333</td>\n",
       "      <td>21416.666667</td>\n",
       "      <td>2016.833333</td>\n",
       "    </tr>\n",
       "    <tr>\n",
       "      <th>std</th>\n",
       "      <td>5.085928</td>\n",
       "      <td>26717.815529</td>\n",
       "      <td>3.920034</td>\n",
       "    </tr>\n",
       "    <tr>\n",
       "      <th>min</th>\n",
       "      <td>1.000000</td>\n",
       "      <td>1500.000000</td>\n",
       "      <td>2010.000000</td>\n",
       "    </tr>\n",
       "    <tr>\n",
       "      <th>25%</th>\n",
       "      <td>2.250000</td>\n",
       "      <td>10500.000000</td>\n",
       "      <td>2016.000000</td>\n",
       "    </tr>\n",
       "    <tr>\n",
       "      <th>50%</th>\n",
       "      <td>4.000000</td>\n",
       "      <td>13500.000000</td>\n",
       "      <td>2017.000000</td>\n",
       "    </tr>\n",
       "    <tr>\n",
       "      <th>75%</th>\n",
       "      <td>5.750000</td>\n",
       "      <td>15000.000000</td>\n",
       "      <td>2019.500000</td>\n",
       "    </tr>\n",
       "    <tr>\n",
       "      <th>max</th>\n",
       "      <td>15.000000</td>\n",
       "      <td>75000.000000</td>\n",
       "      <td>2021.000000</td>\n",
       "    </tr>\n",
       "  </tbody>\n",
       "</table>\n",
       "</div>"
      ],
      "text/plain": [
       "          Rating         Price    Most_Sale\n",
       "count   6.000000      6.000000     6.000000\n",
       "mean    5.333333  21416.666667  2016.833333\n",
       "std     5.085928  26717.815529     3.920034\n",
       "min     1.000000   1500.000000  2010.000000\n",
       "25%     2.250000  10500.000000  2016.000000\n",
       "50%     4.000000  13500.000000  2017.000000\n",
       "75%     5.750000  15000.000000  2019.500000\n",
       "max    15.000000  75000.000000  2021.000000"
      ]
     },
     "execution_count": 8,
     "metadata": {},
     "output_type": "execute_result"
    }
   ],
   "source": [
    "revised_data.describe()"
   ]
  },
  {
   "cell_type": "code",
   "execution_count": 9,
   "id": "87e6fd6a",
   "metadata": {},
   "outputs": [
    {
     "name": "stderr",
     "output_type": "stream",
     "text": [
      "C:\\Users\\NISHANT\\AppData\\Local\\Temp\\ipykernel_27172\\3877449494.py:1: FutureWarning: The default value of numeric_only in DataFrame.mean is deprecated. In a future version, it will default to False. In addition, specifying 'numeric_only=None' is deprecated. Select only valid columns or specify the value of numeric_only to silence this warning.\n",
      "  revised_data.mean()\n"
     ]
    },
    {
     "data": {
      "text/plain": [
       "Rating           5.333333\n",
       "Price        21416.666667\n",
       "Most_Sale     2016.833333\n",
       "dtype: float64"
      ]
     },
     "execution_count": 9,
     "metadata": {},
     "output_type": "execute_result"
    }
   ],
   "source": [
    "revised_data.mean()"
   ]
  },
  {
   "cell_type": "code",
   "execution_count": 10,
   "id": "838c7a28",
   "metadata": {},
   "outputs": [],
   "source": [
    "revised_data.to_csv(\"data_mobile.csv\")"
   ]
  },
  {
   "cell_type": "code",
   "execution_count": 11,
   "id": "e82e0618",
   "metadata": {},
   "outputs": [
    {
     "data": {
      "image/png": "[encoded data removed]",
      "text/plain": [
       "<Figure size 750x750 with 12 Axes>"
      ]
     },
     "metadata": {},
     "output_type": "display_data"
    }
   ],
   "source": [
    "sns.pairplot(revised_data)\n",
    "plt.grid()\n",
    "plt.show()"
   ]
  },
  {
   "cell_type": "code",
   "execution_count": null,
   "id": "e73f8d41",
   "metadata": {},
   "outputs": [],
   "source": []
  }
 ],
 "metadata": {
  "kernelspec": {
   "display_name": "Python 3 (ipykernel)",
   "language": "python",
   "name": "python3"
  },
  "language_info": {
   "codemirror_mode": {
    "name": "ipython",
    "version": 3
   },
   "file_extension": ".py",
   "mimetype": "text/x-python",
   "name": "python",
   "nbconvert_exporter": "python",
   "pygments_lexer": "ipython3",
   "version": "3.9.13"
  }
 },
 "nbformat": 4,
 "nbformat_minor": 5
}
