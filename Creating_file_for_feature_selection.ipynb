{
 "cells": [
  {
   "cell_type": "code",
   "execution_count": 2,
   "id": "6bfb5435",
   "metadata": {},
   "outputs": [],
   "source": [
    "import pandas as pd\n",
    "import random\n",
    "from faker import Faker\n",
    "\n",
    "# Create a Faker object to generate random data\n",
    "fake = Faker()\n",
    "\n",
    "# Create a sample DataFrame with 100 rows and 15 columns\n",
    "data = {\n",
    "    'First Name': [fake.first_name() for _ in range(100)],\n",
    "    'Last Name': [fake.last_name() for _ in range(100)],\n",
    "    'Age': [random.randint(18, 65) for _ in range(100)],\n",
    "    'City': [fake.city() for _ in range(100)],\n",
    "    'State': [fake.state_abbr() for _ in range(100)],\n",
    "    'Quarter 1 Sales': [random.randint(5000, 10000) for _ in range(100)],\n",
    "    'Quarter 2 Sales': [random.randint(5000, 10000) for _ in range(100)],\n",
    "    'Quarter 3 Sales': [random.randint(5000, 10000) for _ in range(100)],\n",
    "    'Quarter 4 Sales': [random.randint(5000, 10000) for _ in range(100)],\n",
    "    'Date of Birth': [fake.date_of_birth(minimum_age=18, maximum_age=65).strftime('%Y-%m-%d') for _ in range(100)],\n",
    "    'Email': [fake.email() for _ in range(100)],\n",
    "    'Phone Number': [fake.phone_number() for _ in range(100)],\n",
    "    'Product Category': [fake.word(ext_word_list=['Electronics', 'Clothing', 'Furniture', 'Books', 'Toys']) for _ in range(100)],\n",
    "    'Purchase Date': [fake.date_between(start_date='-5y', end_date='today').strftime('%Y-%m-%d') for _ in range(100)],\n",
    "    'Order Status': [fake.random_element(elements=('Shipped', 'Processing', 'Cancelled', 'Delivered')) for _ in range(100)],\n",
    "    'Transaction ID': [fake.uuid4() for _ in range(100)]\n",
    "}\n",
    "\n",
    "df = pd.DataFrame(data)\n",
    "\n",
    "# Save the DataFrame to a CSV file\n",
    "df.to_csv('sample_data_large_with_extra_columns.csv', index=False)\n"
   ]
  },
  {
   "cell_type": "code",
   "execution_count": null,
   "id": "cf802f58",
   "metadata": {},
   "outputs": [],
   "source": []
  }
 ],
 "metadata": {
  "kernelspec": {
   "display_name": "Python 3 (ipykernel)",
   "language": "python",
   "name": "python3"
  },
  "language_info": {
   "codemirror_mode": {
    "name": "ipython",
    "version": 3
   },
   "file_extension": ".py",
   "mimetype": "text/x-python",
   "name": "python",
   "nbconvert_exporter": "python",
   "pygments_lexer": "ipython3",
   "version": "3.9.13"
  }
 },
 "nbformat": 4,
 "nbformat_minor": 5
}
